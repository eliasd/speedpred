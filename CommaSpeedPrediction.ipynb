{
  "nbformat": 4,
  "nbformat_minor": 0,
  "metadata": {
    "colab": {
      "name": "CommaSpeedPrediction.ipynb",
      "provenance": [],
      "collapsed_sections": [],
      "include_colab_link": true
    },
    "kernelspec": {
      "name": "python3",
      "display_name": "Python 3"
    },
    "accelerator": "GPU"
  },
  "cells": [
    {
      "cell_type": "markdown",
      "metadata": {
        "id": "view-in-github",
        "colab_type": "text"
      },
      "source": [
        "<a href=\"https://colab.research.google.com/github/eliasd/speedpred/blob/master/CommaSpeedPrediction.ipynb\" target=\"_parent\"><img src=\"https://colab.research.google.com/assets/colab-badge.svg\" alt=\"Open In Colab\"/></a>"
      ]
    },
    {
      "cell_type": "code",
      "metadata": {
        "id": "wjHXkdEpPC5s",
        "colab_type": "code",
        "colab": {
          "base_uri": "https://localhost:8080/",
          "height": 156
        },
        "outputId": "62af0a26-dedd-4b9a-cb5c-1068d1d0d165"
      },
      "source": [
        "from google.colab import drive\n",
        "\n",
        "drive.mount('/content/drive')\n",
        "\n",
        "%cd drive/My\\ Drive/Creative/speedpred\n",
        "\n",
        "! git pull"
      ],
      "execution_count": 1,
      "outputs": [
        {
          "output_type": "stream",
          "text": [
            "Go to this URL in a browser: https://accounts.google.com/o/oauth2/auth?client_id=947318989803-6bn6qk8qdgf4n4g3pfee6491hc0brc4i.apps.googleusercontent.com&redirect_uri=urn%3aietf%3awg%3aoauth%3a2.0%3aoob&response_type=code&scope=email%20https%3a%2f%2fwww.googleapis.com%2fauth%2fdocs.test%20https%3a%2f%2fwww.googleapis.com%2fauth%2fdrive%20https%3a%2f%2fwww.googleapis.com%2fauth%2fdrive.photos.readonly%20https%3a%2f%2fwww.googleapis.com%2fauth%2fpeopleapi.readonly\n",
            "\n",
            "Enter your authorization code:\n",
            "··········\n",
            "Mounted at /content/drive\n",
            "/content/drive/My Drive/Creative/speedpred\n",
            "Already up to date.\n"
          ],
          "name": "stdout"
        }
      ]
    },
    {
      "cell_type": "code",
      "metadata": {
        "id": "1phwOtVrmNEM",
        "colab_type": "code",
        "colab": {
          "base_uri": "https://localhost:8080/",
          "height": 85
        },
        "outputId": "d2aae25c-5673-4dfd-cbc8-41aeb3c7d614"
      },
      "source": [
        "! git fetch origin master\n",
        "! git reset --hard FETCH_HEAD\n",
        "! git clean -df"
      ],
      "execution_count": 19,
      "outputs": [
        {
          "output_type": "stream",
          "text": [
            "From https://github.com/eliasd/speedpred\n",
            " * branch            master     -> FETCH_HEAD\n",
            "HEAD is now at 9481eec Ensure frame shape\n",
            "Removing __pycache__/\n"
          ],
          "name": "stdout"
        }
      ]
    },
    {
      "cell_type": "code",
      "metadata": {
        "id": "TyqKNWnjwys7",
        "colab_type": "code",
        "colab": {}
      },
      "source": [
        "import tensorflow as tf\n",
        "\n",
        "from dataset import get_pre_processed_dataset\n",
        "from model import get_speed_prediction_network"
      ],
      "execution_count": 2,
      "outputs": []
    },
    {
      "cell_type": "markdown",
      "metadata": {
        "id": "6zeOlbHPTsGX",
        "colab_type": "text"
      },
      "source": [
        "### Getting the dataset"
      ]
    },
    {
      "cell_type": "code",
      "metadata": {
        "id": "HCXqVVaGTvkA",
        "colab_type": "code",
        "colab": {
          "base_uri": "https://localhost:8080/",
          "height": 85
        },
        "outputId": "d91b1c16-26af-488c-efca-d38fa01bacd5"
      },
      "source": [
        "# Dataset size:\n",
        "# if window_size = 4, then 5100 elements.\n",
        "ds = get_pre_processed_dataset()\n",
        "\n",
        "# Most of the time in this cell is spent counting \n",
        "# the number of elements in the dataset.\n",
        "DS_SIZE = sum(1 for _ in ds)\n",
        "print(f'Number of elements: {DS_SIZE}')\n",
        "\n",
        "train_size = int(0.7 * DS_SIZE)\n",
        "val_size = int(0.15 * DS_SIZE)\n",
        "test_size = int(0.15 * DS_SIZE)\n",
        "print(f'Train size: {train_size}')\n",
        "print(f'Validation size: {val_size}')\n",
        "print(f'Test size: {test_size}')\n",
        "\n",
        "# Shuffle dataset.\n",
        "ds = ds.shuffle(buffer_size=DS_SIZE)\n",
        "\n",
        "# Get training set.\n",
        "train_ds = ds.take(train_size)\n",
        "\n",
        "# Get validation and test sets.\n",
        "full_test_ds = ds.skip(train_size)\n",
        "val_ds = full_test_ds.take(val_size)\n",
        "test_ds = full_test_ds.skip(test_size)"
      ],
      "execution_count": 3,
      "outputs": [
        {
          "output_type": "stream",
          "text": [
            "Number of elements: 5100\n",
            "Train size: 3570\n",
            "Validation size: 765\n",
            "Test size: 765\n"
          ],
          "name": "stdout"
        }
      ]
    },
    {
      "cell_type": "markdown",
      "metadata": {
        "id": "vEIlOj2Qlpnx",
        "colab_type": "text"
      },
      "source": [
        "### Fitting the Model"
      ]
    },
    {
      "cell_type": "code",
      "metadata": {
        "id": "a1C7Pj0sxtTm",
        "colab_type": "code",
        "colab": {
          "base_uri": "https://localhost:8080/",
          "height": 374
        },
        "outputId": "d3587557-0699-4709-8e9a-57f713fbbfe4"
      },
      "source": [
        "model = get_speed_prediction_network()\n",
        "model.compile(optimizer=tf.keras.optimizers.Adam(learning_rate=1e-3),\n",
        "              loss='mse',\n",
        "              metrics=['mse'])\n",
        "\n",
        "model.fit(train_ds.batch(2), epochs=10, validation_data=val_ds.batch(2))"
      ],
      "execution_count": 4,
      "outputs": [
        {
          "output_type": "stream",
          "text": [
            "Epoch 1/10\n",
            "1785/1785 [==============================] - 1391s 779ms/step - loss: 71.8529 - mse: 71.8529 - val_loss: 66.8233 - val_mse: 66.8233\n",
            "Epoch 2/10\n",
            "1785/1785 [==============================] - 1371s 768ms/step - loss: 70.0655 - mse: 70.0655 - val_loss: 67.8599 - val_mse: 67.8599\n",
            "Epoch 3/10\n",
            "1785/1785 [==============================] - 1386s 777ms/step - loss: 69.0457 - mse: 69.0457 - val_loss: 71.4496 - val_mse: 71.4496\n",
            "Epoch 4/10\n",
            "1785/1785 [==============================] - 1360s 762ms/step - loss: 69.8068 - mse: 69.8068 - val_loss: 72.0687 - val_mse: 72.0687\n",
            "Epoch 5/10\n",
            "1785/1785 [==============================] - 1370s 768ms/step - loss: 69.2681 - mse: 69.2681 - val_loss: 67.0811 - val_mse: 67.0811\n",
            "Epoch 6/10\n",
            "1785/1785 [==============================] - 1358s 761ms/step - loss: 68.3799 - mse: 68.3799 - val_loss: 67.1379 - val_mse: 67.1379\n",
            "Epoch 7/10\n",
            "1785/1785 [==============================] - 1357s 760ms/step - loss: 68.7761 - mse: 68.7761 - val_loss: 67.1615 - val_mse: 67.1615\n",
            "Epoch 8/10\n",
            "1785/1785 [==============================] - 1365s 765ms/step - loss: 69.1567 - mse: 69.1567 - val_loss: 65.4060 - val_mse: 65.4060\n",
            "Epoch 9/10\n",
            "1785/1785 [==============================] - 1369s 767ms/step - loss: 38.2817 - mse: 38.2817 - val_loss: 7.8163 - val_mse: 7.8163\n",
            "Epoch 10/10\n",
            "1785/1785 [==============================] - 1359s 761ms/step - loss: 7.7213 - mse: 7.7213 - val_loss: 2.8492 - val_mse: 2.8492\n"
          ],
          "name": "stdout"
        },
        {
          "output_type": "execute_result",
          "data": {
            "text/plain": [
              "<tensorflow.python.keras.callbacks.History at 0x7f8810220c50>"
            ]
          },
          "metadata": {
            "tags": []
          },
          "execution_count": 4
        }
      ]
    },
    {
      "cell_type": "code",
      "metadata": {
        "id": "G-XxXijGd8iP",
        "colab_type": "code",
        "colab": {
          "base_uri": "https://localhost:8080/",
          "height": 119
        },
        "outputId": "afac8a1f-36fe-4dce-f0df-1645e61b3a8a"
      },
      "source": [
        "count = 0\n",
        "for window, labels in test_ds:\n",
        "  pred = model(tf.expand_dims(window, 0))\n",
        "  print(pred)\n",
        "  print(labels)\n",
        "  \n",
        "  count = count + 1\n",
        "  if count >= 3:\n",
        "    break"
      ],
      "execution_count": 8,
      "outputs": [
        {
          "output_type": "stream",
          "text": [
            "tf.Tensor([[6.989753  7.0605826 7.101199  6.9767113]], shape=(1, 4), dtype=float32)\n",
            "tf.Tensor([6.254949 6.193792 6.271255 6.240515], shape=(4,), dtype=float64)\n",
            "tf.Tensor([[8.9433775 8.966254  8.991715  8.946243 ]], shape=(1, 4), dtype=float32)\n",
            "tf.Tensor([9.493545 9.49822  9.488301 9.489941], shape=(4,), dtype=float64)\n",
            "tf.Tensor([[5.335653  5.362772  5.3680983 5.3161635]], shape=(1, 4), dtype=float32)\n",
            "tf.Tensor([6.14101  5.961272 6.00578  6.004716], shape=(4,), dtype=float64)\n"
          ],
          "name": "stdout"
        }
      ]
    },
    {
      "cell_type": "code",
      "metadata": {
        "id": "kLNmiHBvlklS",
        "colab_type": "code",
        "colab": {}
      },
      "source": [
        ""
      ],
      "execution_count": null,
      "outputs": []
    },
    {
      "cell_type": "code",
      "metadata": {
        "colab_type": "code",
        "id": "lCFXKzqtovTl",
        "colab": {
          "base_uri": "https://localhost:8080/",
          "height": 170
        },
        "outputId": "0ef9fbde-486b-497b-ac27-24a334b5c123"
      },
      "source": [
        "count = 0\n",
        "for window, labels in train_ds:\n",
        "  pred = model(tf.expand_dims(window, 0))\n",
        "  print(pred)\n",
        "  print(labels)\n",
        "  print()\n",
        "  \n",
        "  count = count + 1\n",
        "  if count >= 3:\n",
        "    break"
      ],
      "execution_count": 9,
      "outputs": [
        {
          "output_type": "stream",
          "text": [
            "tf.Tensor([[8.971958  9.067791  9.0306015 8.941922 ]], shape=(1, 4), dtype=float32)\n",
            "tf.Tensor([10.515698 10.484941 10.502711 10.492929], shape=(4,), dtype=float64)\n",
            "\n",
            "tf.Tensor([[23.42581  23.423414 23.445442 23.425186]], shape=(1, 4), dtype=float32)\n",
            "tf.Tensor([22.102941 22.137825 22.14674  22.163254], shape=(4,), dtype=float64)\n",
            "\n",
            "tf.Tensor([[11.690115  11.6531105 11.862762  11.551782 ]], shape=(1, 4), dtype=float32)\n",
            "tf.Tensor([11.609733 11.639742 11.782996 11.812252], shape=(4,), dtype=float64)\n",
            "\n"
          ],
          "name": "stdout"
        }
      ]
    },
    {
      "cell_type": "code",
      "metadata": {
        "id": "cwwgmrvVo0iN",
        "colab_type": "code",
        "colab": {
          "base_uri": "https://localhost:8080/",
          "height": 323
        },
        "outputId": "a4795a89-b3a4-4207-d9e4-9546b89c1756"
      },
      "source": [
        "! git status"
      ],
      "execution_count": 10,
      "outputs": [
        {
          "output_type": "stream",
          "text": [
            "On branch master\n",
            "Your branch is up to date with 'origin/master'.\n",
            "\n",
            "Changes not staged for commit:\n",
            "  (use \"git add <file>...\" to update what will be committed)\n",
            "  (use \"git checkout -- <file>...\" to discard changes in working directory)\n",
            "\n",
            "\t\u001b[31mmodified:   dataset.py\u001b[m\n",
            "\t\u001b[31mmodified:   test_dataset.py\u001b[m\n",
            "\n",
            "Untracked files:\n",
            "  (use \"git add <file>...\" to include in what will be committed)\n",
            "\n",
            "\t\u001b[31m__pycache__/\u001b[m\n",
            "\t\u001b[31mtrain.mp4\u001b[m\n",
            "\t\u001b[31mtrain.txt\u001b[m\n",
            "\n",
            "no changes added to commit (use \"git add\" and/or \"git commit -a\")\n"
          ],
          "name": "stdout"
        }
      ]
    },
    {
      "cell_type": "code",
      "metadata": {
        "id": "e364uXeSpzhD",
        "colab_type": "code",
        "colab": {}
      },
      "source": [
        ""
      ],
      "execution_count": null,
      "outputs": []
    }
  ]
}